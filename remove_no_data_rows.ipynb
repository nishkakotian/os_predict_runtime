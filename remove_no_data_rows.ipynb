{
 "cells": [
  {
   "cell_type": "code",
   "execution_count": 2,
   "metadata": {},
   "outputs": [
    {
     "name": "stdout",
     "output_type": "stream",
     "text": [
      "347612\n"
     ]
    }
   ],
   "source": [
    "#Remove records with runtime=-1 \n",
    "\n",
    "import csv\n",
    "with open('anon_jobs_final.csv','w') as f:\n",
    "    with open('anon_jobs.csv') as csv_file:\n",
    "        csv_writer = csv.writer(f, delimiter=',')\n",
    "        csv_reader = csv.reader(csv_file, delimiter=',')\n",
    "        line_count = 0\n",
    "        for row in csv_reader:\n",
    "            if(row[3]!='-1'):\n",
    "                csv_writer.writerow(row)\n",
    "                line_count += 1\n",
    "print(line_count)"
   ]
  }
 ],
 "metadata": {
  "kernelspec": {
   "display_name": "Python 3",
   "language": "python",
   "name": "python3"
  },
  "language_info": {
   "codemirror_mode": {
    "name": "ipython",
    "version": 3
   },
   "file_extension": ".py",
   "mimetype": "text/x-python",
   "name": "python",
   "nbconvert_exporter": "python",
   "pygments_lexer": "ipython3",
   "version": "3.8.3"
  }
 },
 "nbformat": 4,
 "nbformat_minor": 4
}
